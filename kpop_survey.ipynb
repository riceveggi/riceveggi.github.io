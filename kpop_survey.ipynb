{
 "cells": [
  {
   "cell_type": "markdown",
   "id": "14dc39d8-1bcf-40c8-b466-05301fc87582",
   "metadata": {},
   "source": [
    "# Analysis of Social media and K-Pop: reasons for its rise and popularity"
   ]
  },
  {
   "cell_type": "markdown",
   "id": "74fb5ca3-b4ac-4af4-950d-365a123d2167",
   "metadata": {},
   "source": [
    "### Kari Huang, Sooboree Jeung"
   ]
  },
  {
   "cell_type": "markdown",
   "id": "4a25a067-4596-4975-aa2f-51c02f800c9c",
   "metadata": {},
   "source": [
    "### INTRODUCTION"
   ]
  },
  {
   "cell_type": "markdown",
   "id": "88871199-2ddc-4ed2-bea9-3cafb1edc8bf",
   "metadata": {},
   "source": [
    "The objective of this project will be to analyze the reasons of the rise of K-Pop through surveys obtainied from social media apps in 2019. According to some aritcle, the kpop industry gained popularity after the phenomenal release of Psy's 'Gangnam Style' in 2012"
   ]
  },
  {
   "cell_type": "markdown",
   "id": "aa339080-2624-4084-ab22-6293482b517f",
   "metadata": {},
   "source": [
    "#### Required Tools\n",
    "The following libraries were used for this project:\n",
    "<ol>\n",
    "<li>requests</li>\n",
    "<li>pandas</li>\n",
    "<li>numpys</li>\n",
    "</ol>"
   ]
  },
  {
   "cell_type": "markdown",
   "id": "7442c465-5d3b-468b-bf52-4304d4b113cd",
   "metadata": {},
   "source": [
    "This project consists of 5 steps: \\\n",
    "Data collection/curation + parsing (if necessary)  \\\n",
    "Data management/representation \\\n",
    "Exploratory data analysis \\\n",
    "Hypothesis testing \\\n",
    "Communication of insights attained \\\n"
   ]
  },
  {
   "cell_type": "markdown",
   "id": "1aeddeca-a518-478e-ab12-4e4e8447ca7b",
   "metadata": {},
   "source": [
    "### 1. DATA COLLECTION:"
   ]
  },
  {
   "cell_type": "markdown",
   "id": "e393f51d-0114-460f-a1d5-4c61eb1619ab",
   "metadata": {},
   "source": [
    "In this step of the project, we collect data tables from external sources such as websites or databases. Such is accomplished by using requests.get("
   ]
  },
  {
   "cell_type": "code",
   "execution_count": 1,
   "id": "99dc6ab8-79c8-43a1-a8bc-ebdf87ded06b",
   "metadata": {},
   "outputs": [],
   "source": [
    "import pandas as pd\n",
    "import requests\n",
    "import matplotlib.pyplot as plt\n",
    "import matplotlib.patches as mpatches\n",
    "import numpy as np"
   ]
  },
  {
   "cell_type": "code",
   "execution_count": null,
   "id": "552ab6b5-48b7-441e-974c-bc9e54998a17",
   "metadata": {},
   "outputs": [],
   "source": []
  }
 ],
 "metadata": {
  "kernelspec": {
   "display_name": "Python 3 (ipykernel)",
   "language": "python",
   "name": "python3"
  },
  "language_info": {
   "codemirror_mode": {
    "name": "ipython",
    "version": 3
   },
   "file_extension": ".py",
   "mimetype": "text/x-python",
   "name": "python",
   "nbconvert_exporter": "python",
   "pygments_lexer": "ipython3",
   "version": "3.9.7"
  }
 },
 "nbformat": 4,
 "nbformat_minor": 5
}
